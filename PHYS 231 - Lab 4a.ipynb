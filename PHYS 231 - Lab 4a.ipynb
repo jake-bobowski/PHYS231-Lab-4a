{
 "cells": [
  {
   "cell_type": "markdown",
   "id": "43c1a0ef",
   "metadata": {
    "deletable": false,
    "editable": false
   },
   "source": [
    "# <div style=\"background-color:rgba(204, 229, 255, 0.5); text-align:center; vertical-align: middle; padding:40px 0; margin-top:30px\"><span style=\"color:rgba(0, 76, 153, 1);\">PHYS 231 Lab #4</span></div>\n",
    "\n",
    "### Due Monday, Oct. 17 at 2:00 pm $-$ upload your .zip submission to the PHYS 231 Canvas Gradebook."
   ]
  },
  {
   "cell_type": "markdown",
   "id": "9937ce95",
   "metadata": {
    "deletable": false,
    "editable": false
   },
   "source": [
    "***\n",
    "## Lab Learning Outcomes:\n",
    "By the end of the PHYS 231 Lab #4, students will be able to:\n",
    "* <b><span style=\"color:rgba(0, 153, 76, 1);\">Design, build, and test practical $LRC$ circuits.</span></b>\n",
    "* <b><span style=\"color:rgba(0, 153, 76, 1);\">Determine the time constant from the transient response of an $LRC$ circuit.</span></b>\n",
    "* <b><span style=\"color:rgba(0, 153, 76, 1);\">Perform a weighted linear fit to a set of data and use the extracted best-fit parameters to determine a quantity of interest.</span></b>"
   ]
  },
  {
   "cell_type": "markdown",
   "id": "85f4dda1",
   "metadata": {
    "deletable": false,
    "editable": false
   },
   "source": [
    "# <div style=\"background-color:rgba(255, 204, 255, 0.5); text-align:center; vertical-align: middle; padding:40px 0; margin-top:30px\"><span style=\"color:rgba(102, 0, 204, 1);\">Part 1 - Installing & Importing Packages</span></div>\n",
    "\n",
    "## The 'InstallerCheck()' Function:\n",
    "\n",
    "Run the 'InstallerCheck()' function contained within PHYS231.py by placing you're cursor inside the code cell below and then hitting 'Shift'+'Enter'.  If the function reports that some packages have been installed, run the cell with \"InstallerCheck()\" a second time.  It should report that all required packages are already installed."
   ]
  },
  {
   "cell_type": "code",
   "execution_count": null,
   "id": "4342dc3d",
   "metadata": {
    "deletable": false,
    "editable": false
   },
   "outputs": [],
   "source": [
    "import PHYS231\n",
    "PHYS231.InstallerCheck()"
   ]
  },
  {
   "cell_type": "markdown",
   "id": "17872f85",
   "metadata": {
    "deletable": false,
    "editable": false
   },
   "source": [
    "## Importing Packages/Modules:\n",
    "\n",
    "Once the packages are installed, they can be imported using the notation:\n",
    "```python\n",
    "import packageName\n",
    "```\n",
    "where 'packageName' is the name of the package to be imported.  Execute the import statements below by placing your cursor within the code cell and hitting 'Shift' + 'Enter'."
   ]
  },
  {
   "cell_type": "code",
   "execution_count": null,
   "id": "d414a5f6",
   "metadata": {
    "deletable": false
   },
   "outputs": [],
   "source": [
    "# Import required and commonly-used modules\n",
    "import matplotlib.pyplot as plt\n",
    "import numpy as np\n",
    "import pandas as pd\n",
    "import uncertainties\n",
    "from uncertainties import ufloat\n",
    "    \n",
    "# Initialize Otter\n",
    "import otter\n",
    "grader = otter.Notebook(\"PHYS 231 - Lab 4a.ipynb\")"
   ]
  },
  {
   "cell_type": "markdown",
   "id": "2b1499c2",
   "metadata": {
    "deletable": false,
    "editable": false
   },
   "source": [
    "# <div style=\"background-color:rgba(255, 204, 255, 0.5); text-align:center; vertical-align: middle; padding:40px 0; margin-top:30px\"><span style=\"color:rgba(102, 0, 204, 1);\">Part 2 - Oscilloscope Measurement of the Time Constant</span></div>\n",
    "\n",
    "## NumPy Arrays\n",
    "\n",
    "Data that you collect during the lab can be entered directly into a list using the following notation:\n",
    "\n",
    "```python\n",
    "x = [x0, x1, x2, x3, ..., xN]\n",
    "y = [y0, y1, y2, y3, ..., yN]\n",
    "```\n",
    "These lists will contain $N+1$ elements. It's usually more convenient to enter data into a NumPy array rather than a list because you can do mathematical operations on arrays that you can't do on lists.  For example:\n",
    "\n",
    "- squaring an array creates an new array with each of the elements from the original array squared\n",
    "- multiplying two arrays of the same length creates a new array in which the each element is the product of the corresponding elements from the original arrays\n",
    "- ...\n",
    "\n",
    "NumPy arrays are entered using the following syntax:\n",
    "\n",
    "```python\n",
    "x = np.array([x0, x1, x2, x3, ..., xN])\n",
    "y = np.array([y0, y1, y2, y3, ..., yN])\n",
    "```             \n",
    "\n",
    "In the cell below, replace the \"...\" in NumPy array statements with your measurements of time, the peak values of the damped voltage oscillations, and the uncertainty in the peak voltages. \n",
    "\n",
    "After executing the cell, the lengths of each of the arrays you've entered will be printed.  Make sure that all of the lengths are the same."
   ]
  },
  {
   "cell_type": "code",
   "execution_count": null,
   "id": "d0a3287a",
   "metadata": {},
   "outputs": [],
   "source": [
    "# Enter your data into the arrays below.\n",
    "# Please do NOT change the variable names.\n",
    "time = np.array([...]) # s\n",
    "Vp = np.array([...]) # V\"\n",
    "errVp = np.array([...]) # V\n",
    "\n",
    "# The statements below will print the lengths of the arrays.\n",
    "print(\"Length of time array:\", len(time))\n",
    "print(\"Length of Vp array:\", len(Vp))\n",
    "print(\"Length of errVp array:\", len(errVp))"
   ]
  },
  {
   "cell_type": "markdown",
   "id": "5d5305fe",
   "metadata": {},
   "source": [
    "## Pandas DateFrames\n",
    "\n",
    "The Pandas package can be used to display your array data in a nicely-formated table.  The Pandas package creates \"DataFrames\" which are 2 dimensional data structures, like a 2 dimensional array, or a table with rows and columns.  The cell below creates and then displays a DataFrame using the arrays that you created in the cell above."
   ]
  },
  {
   "cell_type": "code",
   "execution_count": null,
   "id": "355dcb76",
   "metadata": {},
   "outputs": [],
   "source": [
    "# Create the data structure.\n",
    "data = {\n",
    "    \"time (s)\": time,\n",
    "    \"VR (V)\": Vp,\n",
    "    \"errVR (V)\": errVp\n",
    "        }\n",
    "\n",
    "# An option to format the numbers in the DataFrame.\n",
    "pd.set_option('display.float_format', lambda x: '%0.3g' % x)\n",
    "\n",
    "#Display the data.\n",
    "pd.DataFrame(data)"
   ]
  },
  {
   "cell_type": "markdown",
   "id": "7f80b8e9",
   "metadata": {
    "deletable": false,
    "editable": false
   },
   "source": [
    "### Calculate the Natural Logarithm of the Peak Voltage\n",
    "\n",
    "The transient response of voltage a across are resistor in an highly-underdamped $LRC$ circuit is given by:\n",
    "\n",
    "\\begin{align}\n",
    "V_\\mathrm{R}(t)\\approx\\omega_1 V_0 RCe^{-\\left(\\gamma/2\\right)t}\\sin\\left(\\omega_1 t\\right)\n",
    "\\end{align}\n",
    "\n",
    "where $V_0$ is the size of the voltage step, $\\gamma = R/L$, and $\\omega_1=\\sqrt{\\omega_0^2 - \\left(\\gamma/2\\right)^2}$.  Note that, for the highly-underdamped circuit that we're working with $\\omega\\gg\\gamma/2$ such that $\\omega_1\\approx\\omega_0=1/\\sqrt{LC}$. In this case, the peak voltages as a function of time are governed by:\n",
    "\n",
    "\\begin{align}\n",
    "V_\\mathrm{p}(t)\\approx\\omega_0 V_0 RCe^{-\\left(\\gamma/2\\right)t}\n",
    "\\end{align}\n",
    "\n",
    "This expression can be linearized by taking the natural logarithm of both sides such that:\n",
    "\n",
    "\\begin{align}\n",
    "\\ln\\left(V_\\mathrm{p}\\right)\\approx\\left(-\\frac{\\gamma}{2}\\right) t + \\ln\\left(\\omega_0 V_0 RC\\right)\n",
    "\\end{align}\n",
    "\n",
    "This is the equation of a straight line with slope $-\\gamma/2$ and $y$-intercept $\\ln\\left(\\omega_0 V_0 RC\\right)$.\n",
    "\n",
    "In the cell below, calculate the natural logarithm of the peak voltage.  Recall that in Python, the natural logarithm of $x$ is called using\n",
    "```python\n",
    "np.log(x)\n",
    "```"
   ]
  },
  {
   "cell_type": "code",
   "execution_count": null,
   "id": "1aae3887",
   "metadata": {
    "tags": []
   },
   "outputs": [],
   "source": [
    "lnVp = ..."
   ]
  },
  {
   "cell_type": "code",
   "execution_count": null,
   "id": "524829a2",
   "metadata": {
    "deletable": false,
    "editable": false
   },
   "outputs": [],
   "source": [
    "grader.check(\"ln_voltage\")"
   ]
  },
  {
   "cell_type": "markdown",
   "id": "c8aaf515",
   "metadata": {
    "deletable": false,
    "editable": false
   },
   "source": [
    "### Calculate the uncertainty in $\\ln\\left(V_\\mathrm{p}\\right)$\n",
    "\n",
    "Recall propagation of errors.  If $y = f\\left(x1, x2, ..., x_N\\right)$ and $x_i\\pm\\Delta x_i$ for $i= 1...N$ are known, then:\n",
    "\n",
    "\\begin{align}\n",
    "\\Delta y = \\sqrt{\\left(\\frac{\\partial f}{\\partial x_1}\\Delta x_1\\right)^2 + \\left(\\frac{\\partial f}{\\partial x_2}\\Delta x_2\\right)^2 + ... + \\left(\\frac{\\partial f}{\\partial x_N}\\Delta x_N\\right)^2}\n",
    "\\end{align}\n",
    "\n",
    "If $y=\\ln\\left(V_\\mathrm{p}\\right)$, then $y$ is a function of only a single variable and:\n",
    "\n",
    "\\begin{align}\n",
    "\\Delta y = \\left\\vert \\frac{\\partial y}{\\partial V_\\mathrm{p}}\\Delta V_\\mathrm{p}\\right\\vert\n",
    "\\end{align}\n",
    "\n",
    "In the cell below, calculate the uncertainty in $\\ln V_\\mathrm{p}$."
   ]
  },
  {
   "cell_type": "code",
   "execution_count": null,
   "id": "dc9cf52c",
   "metadata": {
    "tags": []
   },
   "outputs": [],
   "source": [
    "errlnVp = ..."
   ]
  },
  {
   "cell_type": "code",
   "execution_count": null,
   "id": "7d7a6deb",
   "metadata": {
    "deletable": false,
    "editable": false
   },
   "outputs": [],
   "source": [
    "grader.check(\"ln_uncertainty\")"
   ]
  },
  {
   "cell_type": "markdown",
   "id": "dfbede7a",
   "metadata": {
    "deletable": false,
    "editable": false
   },
   "source": [
    "### Plot the data\n",
    "\n",
    "The $\\ln\\left(V_\\mathrm{p}\\right)$ data can now be plotted as a function of time.  Execute the cell below to created a scatter plot with error bars.  For additional information about the 'Scatter' function, see **Appendix A** near the end of this notebook. "
   ]
  },
  {
   "cell_type": "code",
   "execution_count": null,
   "id": "8a55ffc7",
   "metadata": {
    "tags": []
   },
   "outputs": [],
   "source": [
    "fig1 = PHYS231.Scatter(\n",
    "    xData = time,\n",
    "    yData = lnVp,\n",
    "    yErrors = errlnVp,\n",
    "    xlabel = \"time\",\n",
    "    ylabel = \"ln Vp\",\n",
    "    xUnits = \"s\",\n",
    "    yUnits = \"\",\n",
    ")"
   ]
  },
  {
   "cell_type": "markdown",
   "id": "afb64990",
   "metadata": {
    "deletable": false,
    "editable": false
   },
   "source": [
    "<!-- BEGIN QUESTION -->\n",
    "\n",
    "## Linear Fits\n",
    "\n",
    "The final thing that we'll do in Part 2 is fit a straight line through the data corrected (i.e. cut) data.  We'll use the 'LinearFit' contained in PHYS231.py to complete this task.  The function call to perform a weighted fit is:\n",
    "```python\n",
    "m, b, dm, db, fig = PHYS231.LinearFit(t, y, erry)\n",
    "```\n",
    "A weighted fit with a formatted plot can be called by using some of the other available arguments:\n",
    "```python\n",
    "m, b, dm, db, fig = PHYS231.LinearFit(xData = t, yData = y, yErrors = erry, xlabel = 'time', ylabel = 'position', xUnits = 's', yUnits = 'm')\n",
    "```\n",
    "Execute the cell below to preform a weighted linear fit to your data.\n",
    "\n",
    "For additional information about the 'LinearFit' function, see **Appendix B** near the end of this notebook. "
   ]
  },
  {
   "cell_type": "code",
   "execution_count": null,
   "id": "1d1e3a25",
   "metadata": {
    "tags": []
   },
   "outputs": [],
   "source": [
    "m, b, dm, db, fig2 = PHYS231.LinearFit(\n",
    "    xData = time,\n",
    "    yData= lnVp,\n",
    "    yErrors = errlnVp,\n",
    "    xlabel = \"time\",\n",
    "    ylabel = \"ln Vp\",\n",
    "    xUnits = \"s\",\n",
    "    yUnits = \"\",\n",
    ")"
   ]
  },
  {
   "cell_type": "markdown",
   "id": "9e0d0d13",
   "metadata": {
    "deletable": false,
    "editable": false
   },
   "source": [
    "<!-- END QUESTION -->\n",
    "\n",
    "## Determining the time constant: $\\gamma\\pm\\Delta\\gamma$\n",
    "\n",
    "Use the slope from the linear fit and its uncertainty to determine an experimental value for $\\gamma=R/L$ and its uncertainty."
   ]
  },
  {
   "cell_type": "code",
   "execution_count": null,
   "id": "5253830d",
   "metadata": {
    "tags": []
   },
   "outputs": [],
   "source": [
    "# Enter an expression to calculate gamma. \n",
    "gamma = ..."
   ]
  },
  {
   "cell_type": "code",
   "execution_count": null,
   "id": "afb4d2de",
   "metadata": {
    "tags": []
   },
   "outputs": [],
   "source": [
    "# Enter an expression to calculate the uncertainty in gamma.\n",
    "errgamma = ..."
   ]
  },
  {
   "cell_type": "code",
   "execution_count": null,
   "id": "28158d4d",
   "metadata": {},
   "outputs": [],
   "source": [
    "# The 'uncertainties' package can be used round the numerical value of gamma based on the value of the uncertainty.\n",
    "# gamma and errgamma are passed to 'ufloat'\n",
    "print('gamma =', ufloat(gamma, errgamma), '1/s')"
   ]
  },
  {
   "cell_type": "markdown",
   "id": "bfa53505",
   "metadata": {
    "deletable": false,
    "editable": false
   },
   "source": [
    "In your lab notebook, you should compare this experimentally-measured value of $\\gamma$ to the value that you expected based on the values of the components used in your circuit.  Recall that $\\gamma=R/L$.  Keep in mind that your expected value of $\\gamma$ will also have an uncertainty based on the uncertainties in the values of $R\\pm\\Delta R$ and $L\\pm\\Delta L$."
   ]
  },
  {
   "cell_type": "markdown",
   "id": "8b3d390c",
   "metadata": {
    "deletable": false,
    "tags": []
   },
   "source": [
    "<!-- BEGIN QUESTION -->\n",
    "\n",
    "# <div style=\"background-color:rgba(255, 204, 255, 0.5); text-align:center; vertical-align: middle; padding:40px 0; margin-top:30px\"><span style=\"color:rgba(102, 0, 204, 1);\">Part 3 - Feedback and Submission</span></div>"
   ]
  },
  {
   "cell_type": "markdown",
   "id": "75e5770d",
   "metadata": {
    "deletable": false,
    "editable": false
   },
   "source": [
    "***\n",
    "**<span style=\"color:blue\">Question 3.1:</span>**  \n",
    "\n",
    "We welcome your feedback on the PHYS 231 labs!  Please feel free to include any comments you have about this lab in the cell below.  Your comments will be taken into consideration when revising/improving the PHYS 231 labs.  You can suggest improvements, point out anything that was unclear, comment on the strengths and weaknesses of the lab, ...\n",
    "\n",
    "This question is optional and will have no impact on your lab grade."
   ]
  },
  {
   "cell_type": "markdown",
   "id": "0755e351",
   "metadata": {},
   "source": [
    "_Type your answer here, replacing this text._"
   ]
  },
  {
   "cell_type": "markdown",
   "id": "7c774fb7",
   "metadata": {
    "deletable": false,
    "editable": false
   },
   "source": [
    "<!-- END QUESTION -->\n",
    "\n",
    "***\n",
    "Once you've completed this notebook:\n",
    "- Save your work.\n",
    "- Run 'grader.check_all()' to confirm that you've completed all required tasks.\n",
    "- Run 'grader.export()' to generate a .zip file containing all of the materials that you will submit.\n",
    "- Download the generated .zip file.\n",
    "- Upload the .zip file to the PHYS 231 Canvas gradebook.\n",
    "\n",
    "Here is a <a href = \"https://cmps-people.ok.ubc.ca/jbobowsk/phys231/Python/images/Submission.gif\">GIF</a> showing how these steps are completed.  Once your completed notebook has been uploaded to the Canvas gradebook, you're done!"
   ]
  },
  {
   "cell_type": "markdown",
   "id": "4acd1fa7",
   "metadata": {
    "deletable": false,
    "editable": false
   },
   "source": [
    "## Submission\n",
    "\n",
    "Make sure you have run all cells in your notebook in order before running the cell below, so that all images/graphs appear in the output. The cell below will generate a zip file for you to submit. **Please save before exporting!**"
   ]
  },
  {
   "cell_type": "code",
   "execution_count": null,
   "id": "88f318f9",
   "metadata": {
    "deletable": false,
    "editable": false
   },
   "outputs": [],
   "source": [
    "# Save your notebook first, then run this cell to export your submission.\n",
    "grader.export(run_tests=True)"
   ]
  },
  {
   "cell_type": "markdown",
   "id": "6e3a7b19",
   "metadata": {
    "deletable": false,
    "editable": false
   },
   "source": [
    "# <div style=\"background-color:rgba(255, 204, 255, 0.5); text-align:center; vertical-align: middle; padding:40px 0; margin-top:30px\"><span style=\"color:rgba(102, 0, 204, 1);\">Part 4 - Playground (optional)</span></div>\n",
    "\n",
    "Feel free to add as many cells as you like below and use them as a playground for further independent investigations.  These cells won't be graded, so feel free to use them in any way that you like.  "
   ]
  },
  {
   "cell_type": "code",
   "execution_count": null,
   "id": "da59366f",
   "metadata": {},
   "outputs": [],
   "source": [
    "# Here's an empty code cell that you can use."
   ]
  },
  {
   "cell_type": "code",
   "execution_count": null,
   "id": "c3cf4818",
   "metadata": {},
   "outputs": [],
   "source": [
    "# Here's another empty code cell that you can use."
   ]
  },
  {
   "cell_type": "code",
   "execution_count": null,
   "id": "00c85e6d",
   "metadata": {},
   "outputs": [],
   "source": [
    "# Here's yet another empty code cell that you can use.\n",
    "# If you need more, you can add cells using the '+' icon in the menu bar at to the top of the screen."
   ]
  },
  {
   "cell_type": "markdown",
   "id": "8eafcab0",
   "metadata": {
    "deletable": false,
    "editable": false
   },
   "source": [
    "### <div style=\"background-color:rgba(255, 255, 102, 0.5); text-align:left; padding:20px 0; margin-top:20px\">$\\quad$Appendix A &ndash; The Scatter Function...</div>\n",
    "\n",
    "The function for generating scatter plots is called as follows:\n",
    "```python\n",
    "PHYS231.Scatter(xData, yData, yErrors = [], xlabel = 'x-axis', ylabel = 'y-axis', xUnits = '', yUnits = '', fill = False, show = True)\n",
    "```\n",
    "The 'xData' and 'yData' inputs are required, all other arguments are optional with default values set.  The function returns the a single output (the formatted plot):\n",
    "```python\n",
    "fig\n",
    "```\n",
    "\n",
    "The function will do a simple scatter plot if no 'yError' are included.  It will included error bars if 'yErrors' are passed to the function.  The 'fill' and 'show' arguments should generally be false.  \n",
    "\n",
    "If the 'xData' list is empty, as in:\n",
    "```python\n",
    "xData = []\n",
    "```\n",
    "then the x-axis will be the trial number.  For example, is 'xData' is empty and 'yData' has 10 elements, the x-axis will span 1 to 10.\n",
    "\n",
    "### Scatter Example Implmentation\n",
    "The code block below shows an implementation of 'Scatter'.\n",
    "```python\n",
    "import PHYS231\n",
    "theta = [10, 20, 30] # degrees\n",
    "T = [2.02, 1.95, 2.13] # s\n",
    "errT = [0.02, 0.02, 0.03] # s\n",
    "fig = PHYS231.Scatter(theta, T, errT, 'initial angle' , 'period', 'degrees', 's')\n",
    "```\n",
    "\n",
    "If you're interested in generating your own plots with customized formatting, see the following Python-based plotting tutorial: https://cmps-people.ok.ubc.ca/jbobowsk/Python/html/Jupyter%20Basic%20Plots.html.\n",
    "***"
   ]
  },
  {
   "cell_type": "markdown",
   "id": "1752486f",
   "metadata": {
    "deletable": false,
    "editable": false
   },
   "source": [
    "### <div style=\"background-color:rgba(255, 255, 102, 0.5); text-align:left; padding:20px 0; margin-top:20px\">$\\quad$Appendix B &ndash; The LinearFit Function...</div>\n",
    "\n",
    "The linear-fit function is called as follows:\n",
    "```python\n",
    "PHYS231.LinearFit(xData, yData, yErrors = [], xlabel = 'x-axis', ylabel = 'y-axis', xUnits = '', yUnits = '', fill = False)\n",
    "```\n",
    "The xData and yData lists are required.  The others are optional with default values set.  The function returns the following outputs:\n",
    "```python\n",
    "Slope, Yintercept, errSlope, errYintercept, fig\n",
    "```\n",
    "The first four outputs are numerical values and 'fig' is the formatted plot. \n",
    "\n",
    "If $y$-uncertainities are provided, the function will perform a weighted fit.  The $y$-uncertainties list must be the same length as $x$- and $y$-data lists.  If $y$-uncertainties are not provided, the fit will be unweighted.  The other optional arguments include $x$- and $y$-axis names and units for the $x$- and $y$-datasets.  These must be entered as strings (enclosed in quotations) and they are used for formatting the outputs of the function.  If 'fill' is set to True, shading will be added around the best-fit line representing confindence intervals. \n",
    "\n",
    "### Unweighted Fit Example Implmentation\n",
    "The code block below shows the most basic use of 'LinearFit' for an unweighted fit without any of the optional arguments.\n",
    "```python\n",
    "import PHYS231\n",
    "V = [1, 2, 3, 4]\n",
    "I = [0.12, 0.198, 0.285, 0.412]\n",
    "m, b, dm, db, fig = PHYS231.LinearFit(V, I)\n",
    "```\n",
    "\n",
    "### Weighted Fit Example Implmentation\n",
    "This second blcok of code shows how to use 'LinearFit' to do a weighted fit.  It also makes use of all of the other optional arguments.  \n",
    "```python\n",
    "import PHYS231\n",
    "V = [1, 2, 3, 4]\n",
    "I = [0.12, 0.198, 0.285, 0.412]\n",
    "errI = [0.005, 0.012, 0.020, 0.025]\n",
    "m, b, dm, db, fig = PHYS231.LinearFit(V, I, errI, 'voltage' , 'current', 'V', 'A', True)\n",
    "```\n",
    "\n",
    "The 'm, b, dm, db, fig = ...' syntax is used to store the function outputs in varibles.  If you're interested in details of the fitting process, see the following Python-based tutorial: https://cmps-people.ok.ubc.ca/jbobowsk/Python/html/Jupyter%20Weighted%20Linear%20Fit.html\n",
    "***"
   ]
  },
  {
   "cell_type": "markdown",
   "id": "160f3dad",
   "metadata": {},
   "source": [
    "Last update: October 14, 2022"
   ]
  }
 ],
 "metadata": {
  "kernelspec": {
   "display_name": "Python 3 (ipykernel)",
   "language": "python",
   "name": "python3"
  },
  "language_info": {
   "codemirror_mode": {
    "name": "ipython",
    "version": 3
   },
   "file_extension": ".py",
   "mimetype": "text/x-python",
   "name": "python",
   "nbconvert_exporter": "python",
   "pygments_lexer": "ipython3",
   "version": "3.9.13"
  },
  "otter": {
   "OK_FORMAT": true,
   "tests": {
    "gamma": {
     "name": "gamma",
     "points": 1,
     "suites": [
      {
       "cases": [],
       "scored": true,
       "setup": "",
       "teardown": "",
       "type": "doctest"
      }
     ]
    },
    "gamma_uncertainty": {
     "name": "gamma_uncertainty",
     "points": 1,
     "suites": [
      {
       "cases": [],
       "scored": true,
       "setup": "",
       "teardown": "",
       "type": "doctest"
      }
     ]
    },
    "ln_uncertainty": {
     "name": "ln_uncertainty",
     "points": 1,
     "suites": [
      {
       "cases": [
        {
         "code": ">>> len(errlnVp) != 0\nTrue",
         "hidden": false,
         "locked": false
        },
        {
         "code": ">>> test = True\n>>> for i in range(len(errlnVp)):\n...     if np.isclose(errlnVp[i], errVp[i]/Vp[i], atol = 0, rtol = 0.03) != True:\n...         test = False\n>>> test\nTrue",
         "hidden": false,
         "locked": false
        }
       ],
       "scored": true,
       "setup": "",
       "teardown": "",
       "type": "doctest"
      }
     ]
    },
    "ln_voltage": {
     "name": "ln_voltage",
     "points": 1,
     "suites": [
      {
       "cases": [
        {
         "code": ">>> len(lnVp) != 0\nTrue",
         "hidden": false,
         "locked": false
        },
        {
         "code": ">>> test = True\n>>> for i in range(len(lnVp)):\n...     if np.isclose(lnVp[i], np.log(Vp[i]), atol = 0, rtol = 0.03) != True:\n...         test = False\n>>> test\nTrue",
         "hidden": false,
         "locked": false
        }
       ],
       "scored": true,
       "setup": "",
       "teardown": "",
       "type": "doctest"
      }
     ]
    }
   }
  },
  "vscode": {
   "interpreter": {
    "hash": "a1ce1a55934a23fd40442cf0356ecbdd657c4299d40a67360326f76004edb0e0"
   }
  }
 },
 "nbformat": 4,
 "nbformat_minor": 5
}
